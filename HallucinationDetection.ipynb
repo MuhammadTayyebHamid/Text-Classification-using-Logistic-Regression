{
  "nbformat": 4,
  "nbformat_minor": 0,
  "metadata": {
    "colab": {
      "provenance": []
    },
    "kernelspec": {
      "name": "python3",
      "display_name": "Python 3"
    },
    "language_info": {
      "name": "python"
    }
  },
  "cells": [
    {
      "cell_type": "code",
      "source": [
        "import nltk\n",
        "nltk.download('wordnet')"
      ],
      "metadata": {
        "colab": {
          "base_uri": "https://localhost:8080/"
        },
        "id": "DxGZHkBdi8Xx",
        "outputId": "cc5fa9e1-dd7c-464b-bacb-57ce1336df06"
      },
      "execution_count": 24,
      "outputs": [
        {
          "output_type": "stream",
          "name": "stderr",
          "text": [
            "[nltk_data] Downloading package wordnet to /root/nltk_data...\n"
          ]
        },
        {
          "output_type": "execute_result",
          "data": {
            "text/plain": [
              "True"
            ]
          },
          "metadata": {},
          "execution_count": 24
        }
      ]
    },
    {
      "cell_type": "code",
      "source": [
        "import pandas as pd\n",
        "import numpy as np\n",
        "from collections import Counter\n",
        "from sklearn.model_selection import train_test_split, KFold\n",
        "import random\n",
        "from nltk.corpus import wordnet\n",
        "import re"
      ],
      "metadata": {
        "id": "APzNpoEflwAk"
      },
      "execution_count": 26,
      "outputs": []
    },
    {
      "cell_type": "code",
      "source": [
        "# Load the dataset\n",
        "url = \"https://github.com/google-research-datasets/xsum_hallucination_annotations/raw/master/factuality_annotations_xsum_summaries.csv\"\n",
        "df = pd.read_csv(url)"
      ],
      "metadata": {
        "id": "y2wRuXyJlxmd"
      },
      "execution_count": 27,
      "outputs": []
    },
    {
      "cell_type": "code",
      "source": [
        "# Convert 'is_factual' labels to binary (1 = factual, 0 = hallucinated)\n",
        "df['is_factual'] = df['is_factual'].apply(lambda x: 1 if x == 'yes' else 0)"
      ],
      "metadata": {
        "id": "Snz329RQl288"
      },
      "execution_count": 28,
      "outputs": []
    },
    {
      "cell_type": "code",
      "source": [
        "# Synonym Replacement Function\n",
        "def get_synonyms(word):\n",
        "    synonyms = set()\n",
        "    for syn in wordnet.synsets(word):\n",
        "        for lemma in syn.lemmas():\n",
        "            synonyms.add(lemma.name())\n",
        "    return list(synonyms)\n",
        "\n",
        "def synonym_replacement(text, n=3):\n",
        "    words = text.split()\n",
        "    new_words = words.copy()\n",
        "    random_word_list = list(set(words))\n",
        "    random.shuffle(random_word_list)\n",
        "    num_replaced = 0\n",
        "\n",
        "    for random_word in random_word_list:\n",
        "        synonyms = get_synonyms(random_word)\n",
        "        if len(synonyms) >= 1:\n",
        "            synonym = random.choice(synonyms)\n",
        "            new_words = [synonym if word == random_word else word for word in new_words]\n",
        "            num_replaced += 1\n",
        "        if num_replaced >= n:\n",
        "            break\n",
        "\n",
        "    return ' '.join(new_words)"
      ],
      "metadata": {
        "id": "qABGiUbyl8Eb"
      },
      "execution_count": 29,
      "outputs": []
    },
    {
      "cell_type": "code",
      "source": [
        "# Data augmentation for factual samples\n",
        "factual_samples = df[df['is_factual'] == 1]\n",
        "num_hallucinated = len(df[df['is_factual'] == 0])\n",
        "num_factual = len(factual_samples)\n",
        "\n",
        "# Augmentation to balance the dataset\n",
        "augmentations_per_sample = (num_hallucinated - num_factual) // num_factual + 1\n",
        "augmented_texts = []\n",
        "for summary in factual_samples['summary']:\n",
        "    for _ in range(augmentations_per_sample):\n",
        "        augmented_text = synonym_replacement(summary, n=3)\n",
        "        augmented_texts.append(augmented_text)\n",
        "\n",
        "# Create a new DataFrame for the augmented data\n",
        "augmented_df = pd.DataFrame({'summary': augmented_texts, 'is_factual': 1})\n",
        "\n",
        "# Combine original and augmented data\n",
        "df_balanced = pd.concat([df, augmented_df])\n",
        "\n",
        "# Check balance of classes\n",
        "print(df_balanced['is_factual'].value_counts())"
      ],
      "metadata": {
        "colab": {
          "base_uri": "https://localhost:8080/"
        },
        "id": "VXNAaqp5l9Zi",
        "outputId": "b5046a6f-fe64-4313-e593-07a3355be757"
      },
      "execution_count": 30,
      "outputs": [
        {
          "output_type": "stream",
          "name": "stdout",
          "text": [
            "is_factual\n",
            "1    5238\n",
            "0    5015\n",
            "Name: count, dtype: int64\n"
          ]
        }
      ]
    },
    {
      "cell_type": "code",
      "source": [
        "# Split into training and test sets\n",
        "X = df_balanced['summary'].values\n",
        "y = df_balanced['is_factual'].values\n",
        "X_train, X_test, y_train, y_test = train_test_split(X, y, test_size=0.2, random_state=42)"
      ],
      "metadata": {
        "id": "hFF5HuY-mCxn"
      },
      "execution_count": 31,
      "outputs": []
    },
    {
      "cell_type": "code",
      "source": [
        "# Preprocessing: Tokenization and Bag-of-Words Vectorization\n",
        "def tokenize(text):\n",
        "    tokens = re.sub(r'\\W+', ' ', text.lower()).split()\n",
        "    return tokens\n",
        "\n",
        "def build_vocabulary(texts):\n",
        "    vocab = Counter()\n",
        "    for text in texts:\n",
        "        tokens = tokenize(text)\n",
        "        vocab.update(tokens)\n",
        "    return vocab\n",
        "\n",
        "vocab = build_vocabulary(X_train)\n",
        "vocab = {word: idx for idx, (word, _) in enumerate(vocab.items())}\n",
        "\n",
        "def text_to_bow(text, vocab):\n",
        "    tokens = tokenize(text)\n",
        "    vector = np.zeros(len(vocab))\n",
        "    for token in tokens:\n",
        "        if token in vocab:\n",
        "            vector[vocab[token]] += 1\n",
        "    return vector\n",
        "\n",
        "X_train_bow = np.array([text_to_bow(text, vocab) for text in X_train])\n",
        "X_test_bow = np.array([text_to_bow(text, vocab) for text in X_test])"
      ],
      "metadata": {
        "id": "oQPRYCcDmH4G"
      },
      "execution_count": 32,
      "outputs": []
    },
    {
      "cell_type": "code",
      "source": [
        "# Logistic Regression from Scratch\n",
        "class LogisticRegressionScratch:\n",
        "    def __init__(self, learning_rate=0.01, num_iterations=1000):\n",
        "        self.learning_rate = learning_rate\n",
        "        self.num_iterations = num_iterations\n",
        "\n",
        "    def sigmoid(self, z):\n",
        "        return 1 / (1 + np.exp(-z))\n",
        "\n",
        "    def fit(self, X, y):\n",
        "        self.theta = np.zeros(X.shape[1])\n",
        "        self.bias = 0\n",
        "\n",
        "        for _ in range(self.num_iterations):\n",
        "            linear_model = np.dot(X, self.theta) + self.bias\n",
        "            y_pred = self.sigmoid(linear_model)\n",
        "\n",
        "            dw = (1 / len(y)) * np.dot(X.T, (y_pred - y))\n",
        "            db = (1 / len(y)) * np.sum(y_pred - y)\n",
        "\n",
        "            self.theta -= self.learning_rate * dw\n",
        "            self.bias -= self.learning_rate * db\n",
        "\n",
        "    def predict(self, X):\n",
        "        linear_model = np.dot(X, self.theta) + self.bias\n",
        "        y_pred = self.sigmoid(linear_model)\n",
        "        y_pred_class = [1 if i > 0.5 else 0 for i in y_pred]\n",
        "        return y_pred_class\n",
        "\n",
        "# Training the Logistic Regression model\n",
        "log_reg = LogisticRegressionScratch(learning_rate=0.01, num_iterations=1000)\n",
        "log_reg.fit(X_train_bow, y_train)"
      ],
      "metadata": {
        "id": "P5pOQbY2mMra"
      },
      "execution_count": 33,
      "outputs": []
    },
    {
      "cell_type": "code",
      "source": [
        "import matplotlib.pyplot as plt\n",
        "import seaborn as sns\n",
        "from sklearn.metrics import accuracy_score, precision_score, recall_score, f1_score, confusion_matrix\n",
        "\n",
        "# Model Evaluation\n",
        "y_pred = log_reg.predict(X_test_bow)\n",
        "accuracy = accuracy_score(y_test, y_pred)\n",
        "precision = precision_score(y_test, y_pred)\n",
        "recall = recall_score(y_test, y_pred)\n",
        "f1 = f1_score(y_test, y_pred)\n",
        "conf_matrix = confusion_matrix(y_test, y_pred)\n",
        "\n",
        "print(f\"Accuracy: {accuracy}\")\n",
        "print(f\"Precision: {precision}\")\n",
        "print(f\"Recall: {recall}\")\n",
        "print(f\"F1 Score: {f1}\")\n",
        "\n",
        "# Plotting the confusion matrix as a heatmap\n",
        "plt.figure(figsize=(8, 6))\n",
        "sns.heatmap(conf_matrix, annot=True, fmt='d', cmap='Blues', xticklabels=['Hallucinated', 'Factual'], yticklabels=['Hallucinated', 'Factual'])\n",
        "plt.title('Confusion Matrix Heatmap')\n",
        "plt.xlabel('Predicted Label')\n",
        "plt.ylabel('True Label')\n",
        "plt.show()\n",
        "\n",
        "# Plotting evaluation metrics\n",
        "metrics = [accuracy, precision, recall, f1]\n",
        "metrics_names = ['Accuracy', 'Precision', 'Recall', 'F1 Score']\n",
        "\n",
        "plt.figure(figsize=(10, 5))\n",
        "sns.barplot(x=metrics_names, y=metrics, palette='viridis')\n",
        "plt.ylim(0, 1)  # Set y-axis limits from 0 to 1\n",
        "plt.title('Evaluation Metrics')\n",
        "plt.ylabel('Score')\n",
        "plt.xlabel('Metrics')\n",
        "plt.show()"
      ],
      "metadata": {
        "colab": {
          "base_uri": "https://localhost:8080/",
          "height": 1000
        },
        "id": "5GT4DNDbmPRy",
        "outputId": "91b71f1b-40a6-4cf9-c5f3-dddcf0b1d5bf"
      },
      "execution_count": 34,
      "outputs": [
        {
          "output_type": "stream",
          "name": "stdout",
          "text": [
            "Accuracy: 0.7186738176499269\n",
            "Precision: 0.737006237006237\n",
            "Recall: 0.686350435624395\n",
            "F1 Score: 0.7107769423558897\n"
          ]
        },
        {
          "output_type": "display_data",
          "data": {
            "text/plain": [
              "<Figure size 800x600 with 2 Axes>"
            ],
            "image/png": "[encoded data removed]"
          },
          "metadata": {}
        },
        {
          "output_type": "stream",
          "name": "stderr",
          "text": [
            "<ipython-input-34-d06f8812bfab>:31: FutureWarning: \n",
            "\n",
            "Passing `palette` without assigning `hue` is deprecated and will be removed in v0.14.0. Assign the `x` variable to `hue` and set `legend=False` for the same effect.\n",
            "\n",
            "  sns.barplot(x=metrics_names, y=metrics, palette='viridis')\n"
          ]
        },
        {
          "output_type": "display_data",
          "data": {
            "text/plain": [
              "<Figure size 1000x500 with 1 Axes>"
            ],
            "image/png": "[encoded data removed]"
          },
          "metadata": {}
        }
      ]
    },
    {
      "cell_type": "code",
      "source": [
        "def display_predictions(X_test, y_test, y_pred, num_predictions=5):\n",
        "    # Sample a few indices for display\n",
        "    sample_indices = np.random.choice(len(X_test), num_predictions, replace=False)\n",
        "\n",
        "    print(f\"{'Summary':<80} {'Actual':<10} {'Predicted':<10}\")\n",
        "    print(\"=\" * 100)\n",
        "\n",
        "    for index in sample_indices:\n",
        "        summary = X_test[index]\n",
        "        actual = 'Factual' if y_test[index] == 1 else 'Hallucinated'\n",
        "        predicted = 'Factual' if y_pred[index] == 1 else 'Hallucinated'\n",
        "\n",
        "        print(f\"{summary:<80} {actual:<10} {predicted:<10}\")\n",
        "\n",
        "# Call the function to display predictions\n",
        "display_predictions(X_test, y_test, y_pred, num_predictions=5)"
      ],
      "metadata": {
        "colab": {
          "base_uri": "https://localhost:8080/"
        },
        "id": "H71zfxb-nPdq",
        "outputId": "79e44e9a-f037-46c3-f5e2-00d367066d06"
      },
      "execution_count": 36,
      "outputs": [
        {
          "output_type": "stream",
          "name": "stdout",
          "text": [
            "Summary                                                                          Actual     Predicted \n",
            "====================================================================================================\n",
            "ampere roman silver coin believed to equal i of britain's most famous roman coins has been discovered in norfolk. Factual    Factual   \n",
            "a powerful earthquake has struck italy's southern central italy, killing at least two people, officials say. Hallucinated Hallucinated\n",
            "a murder investigation has been launched after a man died following a lancinate assail on a house in south yorkshire. Factual    Hallucinated\n",
            "Manchester united manager sir alex ferguson says He is not touch_on about his side's unbeaten start to the season as they attempt to win the premier league title Factual    Hallucinated\n",
            "campaigners are calling for a vaccinating vaccination against cancer in wales.   Factual    Factual   \n"
          ]
        }
      ]
    },
    {
      "cell_type": "code",
      "source": [
        "# Cross-Validation (k-fold)\n",
        "def cross_validation(model, X, y, k=5):\n",
        "    kf = KFold(n_splits=k, shuffle=True, random_state=42)\n",
        "    accuracy_scores = []\n",
        "\n",
        "    for train_index, val_index in kf.split(X):\n",
        "        X_train_cv, X_val_cv = X[train_index], X[val_index]\n",
        "        y_train_cv, y_val_cv = y[train_index], y[val_index]\n",
        "\n",
        "        model.fit(X_train_cv, y_train_cv)\n",
        "        y_pred_cv = model.predict(X_val_cv)\n",
        "        accuracy_scores.append(accuracy_score(y_val_cv, y_pred_cv))\n",
        "\n",
        "    return np.mean(accuracy_scores), np.std(accuracy_scores)\n",
        "\n",
        "mean_accuracy, std_dev = cross_validation(log_reg, X_train_bow, y_train)\n",
        "print(f\"Cross-Validation Mean Accuracy: {mean_accuracy}\")\n",
        "print(f\"Cross-Validation Standard Deviation: {std_dev}\")"
      ],
      "metadata": {
        "colab": {
          "base_uri": "https://localhost:8080/"
        },
        "id": "wYSxA6DymWhY",
        "outputId": "48833069-bbda-4f57-b517-5b8d37976880"
      },
      "execution_count": 37,
      "outputs": [
        {
          "output_type": "stream",
          "name": "stdout",
          "text": [
            "Cross-Validation Mean Accuracy: 0.7068998677189697\n",
            "Cross-Validation Standard Deviation: 0.008645662628946105\n"
          ]
        }
      ]
    },
    {
      "cell_type": "code",
      "source": [
        "# Error Analysis: Find misclassified examples\n",
        "misclassified = X_test[np.where(y_test != y_pred)]\n",
        "print(\"Misclassified Examples:\")\n",
        "for example in misclassified[:5]:\n",
        "    print(example)"
      ],
      "metadata": {
        "colab": {
          "base_uri": "https://localhost:8080/"
        },
        "id": "HHi9iDV6irLf",
        "outputId": "cba81fac-0493-4443-8240-1c4561193046"
      },
      "execution_count": 38,
      "outputs": [
        {
          "output_type": "stream",
          "name": "stdout",
          "text": [
            "Misclassified Examples:\n",
            "the jihadist group islamic state ( is ) is preparing to return home to syria, after being shot dead by islamic state militants.\n",
            "plans to build a power plant in the centre of hinkley point have been suspended by the government, the government has said.\n",
            "Italian prime minister matteo renzi has won the a_la_mode degree in a vote in italy's parliament.\n",
            "testimonial have been paid to renowned renowned music music_director Saint_Christopher lee, who has died at the age of 86.\n",
            "barrow came from behind to beat taunton atomic_number_49 the start round of the fa cup at the expense of league two.\n"
          ]
        }
      ]
    },
    {
      "cell_type": "markdown",
      "source": [
        "# Error Analysis\n",
        "\n",
        "\n",
        "\n",
        "1.   Many summaries contain ambiguous phrases or complex sentence structures that can be interpreted differently, making it challenging for the model to discern factual from hallucinated content.\n",
        "2.   Summaries that use similar words but convey different meanings could be misclassified, as the model may not capture the nuances effectively.\n",
        "3. Limited training data may also cause the model to misclassify few of the statements.\n",
        "4. Texts with spelling mistakes or typographical errors can disrupt the tokenization process and affect the model’s ability to learn from the data.\n",
        "5. The presence of uncommon or domain-specific terminology may not be well-represented in the training data, leading the model to misclassify them.\n",
        "\n",
        "# Improvements\n",
        "\n",
        "1. Explore word embeddings to capture semantic relationships between words.\n",
        "2. Optimizing hyperparameters may improve the training process.\n",
        "3. Experimenting with a more complex model may improve the results.\n",
        "\n",
        "\n",
        "\n",
        "\n"
      ],
      "metadata": {
        "id": "x2ZECcgiqF9P"
      }
    }
  ]
}